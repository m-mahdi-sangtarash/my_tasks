{
 "cells": [
  {
   "cell_type": "code",
   "execution_count": 11,
   "id": "54216c13",
   "metadata": {},
   "outputs": [
    {
     "name": "stdout",
     "output_type": "stream",
     "text": [
      "please enter your text: The Persian League is the largest sport event dedicated to the deprived areas of Iran. The Persian League promotes peace and friendship. This video was captured by one of our heroes who wishes peace.\n",
      "1. The\n",
      "3. Persian\n",
      "5. League\n",
      "18. Iran\n",
      "20. The\n",
      "22. Persian\n",
      "24. League\n",
      "30. This\n"
     ]
    }
   ],
   "source": [
    "text_inp = input(\"please enter your text: \")\n",
    "word_num = 1\n",
    "word = ''\n",
    "other_lst = [' ', ',', '?', '.', '0', '1', '2', '3', '4', '5', '6', '7', '8', '9']\n",
    "\n",
    "for letter in text_inp:\n",
    "    if letter not in other_lst:  #check the letters\n",
    "        word += letter\n",
    "        \n",
    "    else:\n",
    "        if word in other_lst:    #delete other characters\n",
    "            word = ''\n",
    "       \n",
    "        else:  \n",
    "            try:\n",
    "                if word[0].isupper():    # check index word\n",
    "                    print(f\"{word_num}. {word}\")   # show index word and him number\n",
    "                    word = ''\n",
    "                    word_num += 1\n",
    "            \n",
    "            except IndexError:\n",
    "                continue\n",
    "        \n",
    "        if word not in other_lst:     # for unindex words\n",
    "            word = ''\n",
    "            word_num += 1\n",
    "                "
   ]
  }
 ],
 "metadata": {
  "kernelspec": {
   "display_name": "Python 3 (ipykernel)",
   "language": "python",
   "name": "python3"
  },
  "language_info": {
   "codemirror_mode": {
    "name": "ipython",
    "version": 3
   },
   "file_extension": ".py",
   "mimetype": "text/x-python",
   "name": "python",
   "nbconvert_exporter": "python",
   "pygments_lexer": "ipython3",
   "version": "3.9.12"
  }
 },
 "nbformat": 4,
 "nbformat_minor": 5
}
