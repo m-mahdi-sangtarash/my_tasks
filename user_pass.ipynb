{
 "cells": [
  {
   "cell_type": "code",
   "execution_count": 3,
   "id": "e466d226",
   "metadata": {},
   "outputs": [
    {
     "name": "stdout",
     "output_type": "stream",
     "text": [
      "Username: foad\n",
      "======================================================\n",
      "| Username foad is invalid! please try again. |\n",
      "======================================================\n",
      "\n",
      "Username: mahdi\n",
      "======================\n",
      "| Username is exist. |\n",
      "======================\n",
      "\n",
      "Password: M@1381do\n",
      "=====================\n",
      "| Login successful! |\n",
      "=====================\n"
     ]
    }
   ],
   "source": [
    "usernames = open(\"usernames.txt\",\"r\")\n",
    "passwords = open(\"passwords.txt\",\"r\")\n",
    "\n",
    "usern_list= []\n",
    "passw_list = []\n",
    "turner = True\n",
    "turn_w1 = True\n",
    "turn_w2 = True\n",
    "\n",
    "\n",
    "while turner:\n",
    "    \n",
    "    user_tran = (usernames.readline()).strip()\n",
    "\n",
    "    if user_tran == '':\n",
    "        break\n",
    "    \n",
    "    usern_list.append(user_tran)\n",
    "    pass_tran = (passwords.readline()).strip()\n",
    "    passw_list.append(pass_tran)\n",
    "    \n",
    "    \n",
    "while turn_w1: #catch username and check it\n",
    "    \n",
    "    username = str(input(\"Username: \"))\n",
    "    \n",
    "    for user_checker in usern_list:\n",
    "                \n",
    "        if user_checker == username:\n",
    "            \n",
    "            print(\"======================\")\n",
    "            print(\"| Username is exist. |\")\n",
    "            print(\"======================\\n\")\n",
    "            user_ind = usern_list.index(user_checker)\n",
    "            turn_w1 = False #stop while\n",
    "            break\n",
    "            \n",
    "    if user_checker != username:\n",
    "        \n",
    "        print(\"======================================================\")\n",
    "        print(f\"| Username {username} is invalid! please try again. |\")\n",
    "        print(\"======================================================\\n\")\n",
    "\n",
    "\n",
    "while turn_w2: #catch password and check it\n",
    "    \n",
    "    password = str(input(\"Password: \"))\n",
    "\n",
    "    if passw_list[user_ind] == password :\n",
    "        print(\"=====================\")\n",
    "        print(\"| Login successful! |\")\n",
    "        print(\"=====================\")\n",
    "        turn = False #stop while\n",
    "        break\n",
    "    \n",
    "    else:\n",
    "        print(\"================================================\")\n",
    "        print(\"| The password is incorrect! Please try again. |\")\n",
    "        print(\"================================================\\n\")\n",
    "        continue\n"
   ]
  },
  {
   "cell_type": "code",
   "execution_count": null,
   "id": "bf2bd287",
   "metadata": {},
   "outputs": [],
   "source": []
  }
 ],
 "metadata": {
  "kernelspec": {
   "display_name": "Python 3 (ipykernel)",
   "language": "python",
   "name": "python3"
  },
  "language_info": {
   "codemirror_mode": {
    "name": "ipython",
    "version": 3
   },
   "file_extension": ".py",
   "mimetype": "text/x-python",
   "name": "python",
   "nbconvert_exporter": "python",
   "pygments_lexer": "ipython3",
   "version": "3.9.12"
  }
 },
 "nbformat": 4,
 "nbformat_minor": 5
}
